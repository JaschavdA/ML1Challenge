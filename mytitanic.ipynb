{
 "cells": [
  {
   "cell_type": "markdown",
   "metadata": {
    "papermill": {
     "duration": 0.018357,
     "end_time": "2023-09-18T20:02:06.300965",
     "exception": false,
     "start_time": "2023-09-18T20:02:06.282608",
     "status": "completed"
    },
    "tags": []
   },
   "source": [
    "![Data Science Lifecycle](https://docs.microsoft.com/en-us/azure/machine-learning/team-data-science-process/media/overview/tdsp-lifecycle2.png)\n",
    "\n",
    "Please note that this is not a linear process. There will be iterations of the whole process but also of parts of the process.\n",
    "\n",
    "Steps of the data science lifecycle:\n",
    "\n",
    "1. problem description and objective\n",
    "\n",
    "2. data acquisition\n",
    "  * early negotiating data access with stakeholders too reduce risk\n",
    "  * storing the data securely and according to privacy regulations (GDPR)\n",
    "  * spend your time wisely. More data samples? More features? Artificially augment data?\n",
    "\n",
    "3. data exploration using descriptive statistics and visualization\n",
    "\n",
    "  some options:\n",
    "  * find out for each feature: data type\n",
    "  * find out for each feature: numerical, nominal categorical, ordinal categorical\n",
    "  * heat map to find correlations between features and between features and target variable\n",
    "\n",
    "4. data preprocessing \n",
    "  * dealing with mising data\n",
    "  * encode categorical features as dummy variables\n",
    "\n",
    "5. modeling: feature selection\n",
    "\n",
    "6. modeling: model training\n",
    "  * algorithm selection\n",
    "  * hyperparameter tuning\n",
    "\n",
    "7. modeling: model evaluation\n",
    "  * choosing evaluation metric\n",
    "  \n",
    "8. deployment of the model\n",
    "  * appify the model\n",
    "  * continuous monitoring of model performance\n"
   ]
  },
  {
   "cell_type": "markdown",
   "metadata": {
    "papermill": {
     "duration": 0.017405,
     "end_time": "2023-09-18T20:02:06.336748",
     "exception": false,
     "start_time": "2023-09-18T20:02:06.319343",
     "status": "completed"
    },
    "tags": []
   },
   "source": [
    "# KAGGLE SPECIFIC CODE"
   ]
  },
  {
   "cell_type": "code",
   "execution_count": 1,
   "metadata": {
    "execution": {
     "iopub.execute_input": "2023-09-18T20:02:06.380268Z",
     "iopub.status.busy": "2023-09-18T20:02:06.379225Z",
     "iopub.status.idle": "2023-09-18T20:02:07.328808Z",
     "shell.execute_reply": "2023-09-18T20:02:07.327981Z",
     "shell.execute_reply.started": "2023-09-18T20:00:45.317611Z"
    },
    "papermill": {
     "duration": 0.974816,
     "end_time": "2023-09-18T20:02:07.328946",
     "exception": false,
     "start_time": "2023-09-18T20:02:06.354130",
     "status": "completed"
    },
    "tags": []
   },
   "outputs": [
    {
     "name": "stdout",
     "output_type": "stream",
     "text": [
      "/kaggle/input/titanic/train.csv\n",
      "/kaggle/input/titanic/test.csv\n",
      "/kaggle/input/titanic/gender_submission.csv\n"
     ]
    }
   ],
   "source": [
    "########################################## KAGGLE SPECIFIC CODE ####################################################\n",
    "# This Python 3 environment comes with many helpful analytics libraries installed\n",
    "# It is defined by the kaggle/python Docker image: https://github.com/kaggle/docker-python\n",
    "# For example, here's several helpful packages to load\n",
    "\n",
    "import numpy as np # linear algebra\n",
    "import pandas as pd # data processing, CSV file I/O (e.g. pd.read_csv)\n",
    "from sklearn.model_selection import train_test_split\n",
    "\n",
    "# Input data files are available in the read-only \"../input/\" directory\n",
    "# For example, running this (by clicking run or pressing Shift+Enter) will list all files under the input directory\n",
    "\n",
    "import os\n",
    "for dirname, _, filenames in os.walk('/kaggle/input'):\n",
    "    for filename in filenames:\n",
    "        print(os.path.join(dirname, filename))\n",
    "\n",
    "# You can write up to 5GB to the current directory (/kaggle/working/) that gets preserved as output when you create a version using \"Save & Run All\" \n",
    "# You can also write temporary files to /kaggle/temp/, but they won't be saved outside of the current session\n",
    "\n",
    "###################################################################################################################"
   ]
  },
  {
   "cell_type": "markdown",
   "metadata": {
    "papermill": {
     "duration": 0.017122,
     "end_time": "2023-09-18T20:02:07.363992",
     "exception": false,
     "start_time": "2023-09-18T20:02:07.346870",
     "status": "completed"
    },
    "tags": []
   },
   "source": [
    "# Let's follow a typical data science workflow #####\n",
    "\n",
    "# 1. problem description and objective\n",
    "* problem description: Titanic sank on maiden voyage after colliding with an iceberg, killing 2/3 of the passengers\n",
    "* objective: predict if a passenger survived or not (binary classification problem)\n",
    "\n",
    "# 2. data acquisition\n",
    "* 2a. early negotiating data access with stakeholders too reduce risk\n",
    "* 2b. storing the data securely and according to privacy regulations (GDPR)\n",
    "* 2c. spend your time wisely. More data samples? More features? Artificially augment data?\n"
   ]
  },
  {
   "cell_type": "code",
   "execution_count": 2,
   "metadata": {
    "execution": {
     "iopub.execute_input": "2023-09-18T20:02:07.408217Z",
     "iopub.status.busy": "2023-09-18T20:02:07.407361Z",
     "iopub.status.idle": "2023-09-18T20:02:07.432085Z",
     "shell.execute_reply": "2023-09-18T20:02:07.432708Z",
     "shell.execute_reply.started": "2023-09-18T20:00:45.328324Z"
    },
    "papermill": {
     "duration": 0.05064,
     "end_time": "2023-09-18T20:02:07.432892",
     "exception": false,
     "start_time": "2023-09-18T20:02:07.382252",
     "status": "completed"
    },
    "tags": []
   },
   "outputs": [],
   "source": [
    "# in this case Kaggle has peformed data acquisition for us\n",
    "from sklearn.utils import shuffle\n",
    "df = pd.read_csv(\"/kaggle/input/titanic/train.csv\")  # it has features and labels\n",
    "kaggle_competition_data = pd.read_csv(\"/kaggle/input/titanic/test.csv\")  # for the Kaggle competition; it has features but has no labels!"
   ]
  },
  {
   "cell_type": "markdown",
   "metadata": {
    "papermill": {
     "duration": 0.017338,
     "end_time": "2023-09-18T20:02:07.468646",
     "exception": false,
     "start_time": "2023-09-18T20:02:07.451308",
     "status": "completed"
    },
    "tags": []
   },
   "source": [
    "# 3. data exploration using descriptive statistics and visualization\n",
    "Some options:\n",
    "* 3a. find out for each feature: data type\n",
    "* 3b. find out for each feature: numerical, nominal categorical, ordinal categorical\n",
    "* 3c. heat map to find correlations between features and between features and target variable\n"
   ]
  },
  {
   "cell_type": "code",
   "execution_count": 3,
   "metadata": {
    "execution": {
     "iopub.execute_input": "2023-09-18T20:02:07.518972Z",
     "iopub.status.busy": "2023-09-18T20:02:07.513584Z",
     "iopub.status.idle": "2023-09-18T20:02:08.208056Z",
     "shell.execute_reply": "2023-09-18T20:02:08.208769Z",
     "shell.execute_reply.started": "2023-09-18T20:00:45.351606Z"
    },
    "papermill": {
     "duration": 0.722115,
     "end_time": "2023-09-18T20:02:08.208968",
     "exception": false,
     "start_time": "2023-09-18T20:02:07.486853",
     "status": "completed"
    },
    "tags": []
   },
   "outputs": [
    {
     "name": "stdout",
     "output_type": "stream",
     "text": [
      "% of men who survived: 0.18890814558058924\n",
      "\n",
      "************************* df.head():\n",
      "   PassengerId  Survived  Pclass  \\\n",
      "0            1         0       3   \n",
      "1            2         1       1   \n",
      "2            3         1       3   \n",
      "3            4         1       1   \n",
      "4            5         0       3   \n",
      "\n",
      "                                                Name     Sex   Age  SibSp  \\\n",
      "0                            Braund, Mr. Owen Harris    male  22.0      1   \n",
      "1  Cumings, Mrs. John Bradley (Florence Briggs Th...  female  38.0      1   \n",
      "2                             Heikkinen, Miss. Laina  female  26.0      0   \n",
      "3       Futrelle, Mrs. Jacques Heath (Lily May Peel)  female  35.0      1   \n",
      "4                           Allen, Mr. William Henry    male  35.0      0   \n",
      "\n",
      "   Parch            Ticket     Fare Cabin Embarked  \n",
      "0      0         A/5 21171   7.2500   NaN        S  \n",
      "1      0          PC 17599  71.2833   C85        C  \n",
      "2      0  STON/O2. 3101282   7.9250   NaN        S  \n",
      "3      0            113803  53.1000  C123        S  \n",
      "4      0            373450   8.0500   NaN        S  \n",
      "\n",
      "************************* df.describe():\n",
      "       PassengerId    Survived      Pclass         Age       SibSp  \\\n",
      "count   891.000000  891.000000  891.000000  714.000000  891.000000   \n",
      "mean    446.000000    0.383838    2.308642   29.699118    0.523008   \n",
      "std     257.353842    0.486592    0.836071   14.526497    1.102743   \n",
      "min       1.000000    0.000000    1.000000    0.420000    0.000000   \n",
      "25%     223.500000    0.000000    2.000000   20.125000    0.000000   \n",
      "50%     446.000000    0.000000    3.000000   28.000000    0.000000   \n",
      "75%     668.500000    1.000000    3.000000   38.000000    1.000000   \n",
      "max     891.000000    1.000000    3.000000   80.000000    8.000000   \n",
      "\n",
      "            Parch        Fare  \n",
      "count  891.000000  891.000000  \n",
      "mean     0.381594   32.204208  \n",
      "std      0.806057   49.693429  \n",
      "min      0.000000    0.000000  \n",
      "25%      0.000000    7.910400  \n",
      "50%      0.000000   14.454200  \n",
      "75%      0.000000   31.000000  \n",
      "max      6.000000  512.329200  \n",
      "\n",
      "************************* df.info():\n",
      "<class 'pandas.core.frame.DataFrame'>\n",
      "RangeIndex: 891 entries, 0 to 890\n",
      "Data columns (total 12 columns):\n",
      " #   Column       Non-Null Count  Dtype  \n",
      "---  ------       --------------  -----  \n",
      " 0   PassengerId  891 non-null    int64  \n",
      " 1   Survived     891 non-null    int64  \n",
      " 2   Pclass       891 non-null    int64  \n",
      " 3   Name         891 non-null    object \n",
      " 4   Sex          891 non-null    object \n",
      " 5   Age          714 non-null    float64\n",
      " 6   SibSp        891 non-null    int64  \n",
      " 7   Parch        891 non-null    int64  \n",
      " 8   Ticket       891 non-null    object \n",
      " 9   Fare         891 non-null    float64\n",
      " 10  Cabin        204 non-null    object \n",
      " 11  Embarked     889 non-null    object \n",
      "dtypes: float64(2), int64(5), object(5)\n",
      "memory usage: 83.7+ KB\n",
      "None\n",
      "\n",
      "************************* kaggle_competition_data.info():\n",
      "<class 'pandas.core.frame.DataFrame'>\n",
      "RangeIndex: 418 entries, 0 to 417\n",
      "Data columns (total 11 columns):\n",
      " #   Column       Non-Null Count  Dtype  \n",
      "---  ------       --------------  -----  \n",
      " 0   PassengerId  418 non-null    int64  \n",
      " 1   Pclass       418 non-null    int64  \n",
      " 2   Name         418 non-null    object \n",
      " 3   Sex          418 non-null    object \n",
      " 4   Age          332 non-null    float64\n",
      " 5   SibSp        418 non-null    int64  \n",
      " 6   Parch        418 non-null    int64  \n",
      " 7   Ticket       418 non-null    object \n",
      " 8   Fare         417 non-null    float64\n",
      " 9   Cabin        91 non-null     object \n",
      " 10  Embarked     418 non-null    object \n",
      "dtypes: float64(2), int64(4), object(5)\n",
      "memory usage: 36.0+ KB\n",
      "None\n"
     ]
    },
    {
     "data": {
      "text/plain": [
       "<matplotlib.axes._subplots.AxesSubplot at 0x78cee03a1110>"
      ]
     },
     "execution_count": 3,
     "metadata": {},
     "output_type": "execute_result"
    },
    {
     "data": {
      "image/png": "[encoded data removed]",
      "text/plain": [
       "<Figure size 432x288 with 2 Axes>"
      ]
     },
     "metadata": {
      "needs_background": "light"
     },
     "output_type": "display_data"
    }
   ],
   "source": [
    "# just a pretty random tryout\n",
    "men = df.loc[df.Sex == 'male'][\"Survived\"]\n",
    "rate_men = sum(men)/len(men)\n",
    "print(\"% of men who survived:\", rate_men)\n",
    "\n",
    "# show some data samples to get a feeling about the data\n",
    "print('\\n************************* df.head():')\n",
    "print(df.head())\n",
    "# to note:\n",
    "# * what is the difference between passenger id and ticket number?\n",
    "\n",
    "# some descriptive statistics\n",
    "print('\\n************************* df.describe():')\n",
    "print(df.describe())\n",
    "\n",
    "# find out the types of the features and find the features that contain missing data (NaN)\n",
    "print('\\n************************* df.info():')\n",
    "print(df.info())\n",
    "# to note:\n",
    "# * feature Cabin has very many missing values\n",
    "# * feature Age has quite some missing values\n",
    "# * feature Embarked has missing values\n",
    "# we also need to investigate the kaggle_competition_data\n",
    "print('\\n************************* kaggle_competition_data.info():')\n",
    "print(kaggle_competition_data.info())\n",
    "# to note:\n",
    "# * feature Fare has missing values\n",
    "\n",
    "# use google to find information about the feature\n",
    "# http://campus.lakeforest.edu/frank/FILES/MLFfiles/Bio150/Titanic/TitanicMETA.pdf\n",
    "# (int)(numerical)           PassengerId\n",
    "# (int)(target variable)     Survived  Survival (0 = No; 1 = Yes)\n",
    "# (int)(ordinal categorical) Pclass    Passenger Class (1 = 1st; 2 = 2nd; 3 = 3rd)\n",
    "# (str)(nominal categorical) Name      \n",
    "# (str)(nominal categorical) Sex       \n",
    "# (flt)(numerical)           Age       \n",
    "# (int)(numerical)           SibSp     Number of Siblings/Spouses Aboard\n",
    "# (int)(numerical)           Parch     Number of Parents/Children Aboard\n",
    "# (str)(nominal categorical) Ticket    Ticket Number\n",
    "# (flt)(numerical)           Fare      Passenger Fare (British pound)\n",
    "# (str)(nominal categorical) Cabin     Cabin (letter of the cabin number indicates the deck)\n",
    "# (str)(nominal categorical) Embarked  Port of Embarkation (C = Cherbourg; Q = Queenstown; S = Southampton)\n",
    "\n",
    "# heatmap: visualization of correlation between features\n",
    "# heatmap ignores categorical features that are not numbers\n",
    "import seaborn as sns\n",
    "sns.heatmap(df.corr(), annot = True, vmin=-1, vmax=1, center= 0)"
   ]
  },
  {
   "cell_type": "markdown",
   "metadata": {
    "papermill": {
     "duration": 0.020316,
     "end_time": "2023-09-18T20:02:08.250531",
     "exception": false,
     "start_time": "2023-09-18T20:02:08.230215",
     "status": "completed"
    },
    "tags": []
   },
   "source": [
    "# 4. data preprocessing \n",
    "* 4a. dealing with missing data\n",
    "* 4b. encode categorical features as dummy variables\n"
   ]
  },
  {
   "cell_type": "code",
   "execution_count": 4,
   "metadata": {
    "execution": {
     "iopub.execute_input": "2023-09-18T20:02:08.318006Z",
     "iopub.status.busy": "2023-09-18T20:02:08.317196Z",
     "iopub.status.idle": "2023-09-18T20:02:08.322355Z",
     "shell.execute_reply": "2023-09-18T20:02:08.321613Z",
     "shell.execute_reply.started": "2023-09-18T20:00:45.799088Z"
    },
    "papermill": {
     "duration": 0.051242,
     "end_time": "2023-09-18T20:02:08.322489",
     "exception": false,
     "start_time": "2023-09-18T20:02:08.271247",
     "status": "completed"
    },
    "tags": []
   },
   "outputs": [
    {
     "name": "stdout",
     "output_type": "stream",
     "text": [
      "length train_X: 534\n",
      "length validation_X: 178\n",
      "length test_X: 179\n",
      "length test_y: 179\n"
     ]
    }
   ],
   "source": [
    "# below we're going to split df into a training and test set to allow model evaluation. To avoid differences between train \n",
    "# and test dataset let's shuffle df so that the split will be random. \n",
    "df = shuffle(df)\n",
    "\n",
    "# it is handy to perform data processing on the complete data set at once, so on df and kaggle_competition_data together\n",
    "# however df contains labels and kaggle_competition_data does not, so let's split df into features and labels\n",
    "df_y = df['Survived']\n",
    "df_X = df.drop('Survived', axis=1)\n",
    "# to remember what part is df and what part is kaggle_competition_data\n",
    "df_len = len(df)\n",
    "\n",
    "# * split the data into trainset (for training), validationset (for hyperparameter turning) and testset (for model evaluation)\n",
    "# * be very careful that no knowledge of the testset spills into training of the model or hyperparameter tuning\n",
    "# * note that X, train_X, validation_X and test_X are REFERENCES pointing to the same dataset. So a change to df will be visible\n",
    "#   in train_data and test_data and vice versa! This is handy, as it allows to perform some actions on the complete data set\n",
    "#   at once, but also something to continuously be aware of!!\n",
    "#   Note that sklearn's train_test_split() does NOT have this behavior, so the code below canNOT be replaced with train_test_split()\n",
    "train_X = df_X[:int(df_len * 0.6)]\n",
    "validation_X = df_X[int(df_len * 0.6):int(df_len * 0.8)]\n",
    "test_X = df_X[int(df_len * 0.8):]\n",
    "train_y = df_y[:int(df_len * 0.6)]\n",
    "validation_y = df_y[int(df_len * 0.6):int(df_len * 0.8)]\n",
    "test_y = df_y[int(df_len * 0.8):]\n",
    "print('length train_X:', len(train_X))\n",
    "print('length validation_X:', len(validation_X))\n",
    "print('length test_X:', len(test_X))\n",
    "print('length test_y:', len(test_y))\n",
    "\n",
    "# add kaggle_competition_data to df_X\n",
    "df_X = pd.concat([df_X, kaggle_competition_data], axis=0)"
   ]
  },
  {
   "cell_type": "code",
   "execution_count": 5,
   "metadata": {
    "execution": {
     "iopub.execute_input": "2023-09-18T20:02:08.378524Z",
     "iopub.status.busy": "2023-09-18T20:02:08.377672Z",
     "iopub.status.idle": "2023-09-18T20:02:08.452139Z",
     "shell.execute_reply": "2023-09-18T20:02:08.452775Z",
     "shell.execute_reply.started": "2023-09-18T20:00:45.820924Z"
    },
    "papermill": {
     "duration": 0.108217,
     "end_time": "2023-09-18T20:02:08.452935",
     "exception": false,
     "start_time": "2023-09-18T20:02:08.344718",
     "status": "completed"
    },
    "tags": []
   },
   "outputs": [
    {
     "name": "stdout",
     "output_type": "stream",
     "text": [
      "\n",
      "************************* df_X.info() before imputation:\n",
      "<class 'pandas.core.frame.DataFrame'>\n",
      "Int64Index: 1309 entries, 144 to 417\n",
      "Data columns (total 11 columns):\n",
      " #   Column       Non-Null Count  Dtype  \n",
      "---  ------       --------------  -----  \n",
      " 0   PassengerId  1309 non-null   int64  \n",
      " 1   Pclass       1309 non-null   int64  \n",
      " 2   Name         1309 non-null   object \n",
      " 3   Sex          1309 non-null   object \n",
      " 4   Age          1046 non-null   float64\n",
      " 5   SibSp        1309 non-null   int64  \n",
      " 6   Parch        1309 non-null   int64  \n",
      " 7   Ticket       1309 non-null   object \n",
      " 8   Fare         1308 non-null   float64\n",
      " 9   Cabin        295 non-null    object \n",
      " 10  Embarked     1307 non-null   object \n",
      "dtypes: float64(2), int64(4), object(5)\n",
      "memory usage: 122.7+ KB\n",
      "None\n",
      "\n",
      "************************* df_X.info() after imputation:\n",
      "<class 'pandas.core.frame.DataFrame'>\n",
      "Int64Index: 1309 entries, 144 to 417\n",
      "Data columns (total 13 columns):\n",
      " #   Column       Non-Null Count  Dtype  \n",
      "---  ------       --------------  -----  \n",
      " 0   PassengerId  1309 non-null   int64  \n",
      " 1   Pclass       1309 non-null   int64  \n",
      " 2   Name         1309 non-null   object \n",
      " 3   Sex          1309 non-null   object \n",
      " 4   Age          1309 non-null   float64\n",
      " 5   SibSp        1309 non-null   int64  \n",
      " 6   Parch        1309 non-null   int64  \n",
      " 7   Ticket       1309 non-null   object \n",
      " 8   Fare         1309 non-null   float64\n",
      " 9   Cabin        1309 non-null   object \n",
      " 10  Embarked     1309 non-null   object \n",
      " 11  Age_wasNan   1309 non-null   bool   \n",
      " 12  Fare_wasNan  1309 non-null   bool   \n",
      "dtypes: bool(2), float64(2), int64(4), object(5)\n",
      "memory usage: 125.3+ KB\n",
      "None\n",
      "\n",
      "************************* df_X.info() after one hot encoding:\n",
      "<class 'pandas.core.frame.DataFrame'>\n",
      "Int64Index: 1309 entries, 144 to 417\n",
      "Data columns (total 19 columns):\n",
      " #   Column                     Non-Null Count  Dtype  \n",
      "---  ------                     --------------  -----  \n",
      " 0   PassengerId                1309 non-null   int64  \n",
      " 1   Name                       1309 non-null   object \n",
      " 2   Age                        1309 non-null   float64\n",
      " 3   SibSp                      1309 non-null   int64  \n",
      " 4   Parch                      1309 non-null   int64  \n",
      " 5   Ticket                     1309 non-null   object \n",
      " 6   Fare                       1309 non-null   float64\n",
      " 7   Cabin                      1309 non-null   object \n",
      " 8   Age_wasNan                 1309 non-null   bool   \n",
      " 9   Fare_wasNan                1309 non-null   bool   \n",
      " 10  Pclass_1                   1309 non-null   uint8  \n",
      " 11  Pclass_2                   1309 non-null   uint8  \n",
      " 12  Pclass_3                   1309 non-null   uint8  \n",
      " 13  Sex_female                 1309 non-null   uint8  \n",
      " 14  Sex_male                   1309 non-null   uint8  \n",
      " 15  Embarked_C                 1309 non-null   uint8  \n",
      " 16  Embarked_Q                 1309 non-null   uint8  \n",
      " 17  Embarked_S                 1309 non-null   uint8  \n",
      " 18  Embarked_WAS_NAN_EMBARKED  1309 non-null   uint8  \n",
      "dtypes: bool(2), float64(2), int64(3), object(3), uint8(9)\n",
      "memory usage: 106.1+ KB\n",
      "None\n",
      "\n",
      "************************* train_X.info() after one hot encoding:\n",
      "<class 'pandas.core.frame.DataFrame'>\n",
      "Int64Index: 534 entries, 144 to 257\n",
      "Data columns (total 11 columns):\n",
      " #   Column       Non-Null Count  Dtype  \n",
      "---  ------       --------------  -----  \n",
      " 0   PassengerId  534 non-null    int64  \n",
      " 1   Pclass       534 non-null    int64  \n",
      " 2   Name         534 non-null    object \n",
      " 3   Sex          534 non-null    object \n",
      " 4   Age          424 non-null    float64\n",
      " 5   SibSp        534 non-null    int64  \n",
      " 6   Parch        534 non-null    int64  \n",
      " 7   Ticket       534 non-null    object \n",
      " 8   Fare         534 non-null    float64\n",
      " 9   Cabin        121 non-null    object \n",
      " 10  Embarked     533 non-null    object \n",
      "dtypes: float64(2), int64(4), object(5)\n",
      "memory usage: 50.1+ KB\n",
      "None\n",
      "\n",
      "************************* train_X.info() after one hot encoding and after resplit:\n",
      "<class 'pandas.core.frame.DataFrame'>\n",
      "Int64Index: 534 entries, 144 to 257\n",
      "Data columns (total 19 columns):\n",
      " #   Column                     Non-Null Count  Dtype  \n",
      "---  ------                     --------------  -----  \n",
      " 0   PassengerId                534 non-null    int64  \n",
      " 1   Name                       534 non-null    object \n",
      " 2   Age                        534 non-null    float64\n",
      " 3   SibSp                      534 non-null    int64  \n",
      " 4   Parch                      534 non-null    int64  \n",
      " 5   Ticket                     534 non-null    object \n",
      " 6   Fare                       534 non-null    float64\n",
      " 7   Cabin                      534 non-null    object \n",
      " 8   Age_wasNan                 534 non-null    bool   \n",
      " 9   Fare_wasNan                534 non-null    bool   \n",
      " 10  Pclass_1                   534 non-null    uint8  \n",
      " 11  Pclass_2                   534 non-null    uint8  \n",
      " 12  Pclass_3                   534 non-null    uint8  \n",
      " 13  Sex_female                 534 non-null    uint8  \n",
      " 14  Sex_male                   534 non-null    uint8  \n",
      " 15  Embarked_C                 534 non-null    uint8  \n",
      " 16  Embarked_Q                 534 non-null    uint8  \n",
      " 17  Embarked_S                 534 non-null    uint8  \n",
      " 18  Embarked_WAS_NAN_EMBARKED  534 non-null    uint8  \n",
      "dtypes: bool(2), float64(2), int64(3), object(3), uint8(9)\n",
      "memory usage: 43.3+ KB\n",
      "None\n"
     ]
    }
   ],
   "source": [
    "# impute train_data and test_data as random forest alg can't handle missing values\n",
    "# remember from above, feature Age (numerical), Cabin (categorical) and Embarked (categorical) and Fare (numerical) contain missing values\n",
    "print('\\n************************* df_X.info() before imputation:')\n",
    "print(df_X.info())\n",
    "# the fact that there are missing values might in itself be meaningful, so add column to administer where values were missing, \n",
    "# so that the model can use this info\n",
    "df_X[f'Age_wasNan'] = df_X['Age'].isnull()\n",
    "df_X[f'Fare_wasNan'] = df_X['Fare'].isnull()\n",
    "# actual imputing\n",
    "train_X_age_mean = train_X['Age'].mean()  # assumption: missing completely at random (MCAR); imputing with median useful when data is skewed\n",
    "df_X['Age'].fillna(train_X_age_mean, inplace=True)  # use the mean of train data on validation_data and test_data to avoid leakage!\n",
    "df_X['Cabin'].fillna('WAS_NAN_CABIN', inplace=True)\n",
    "df_X['Embarked'].fillna('WAS_NAN_EMBARKED', inplace=True)\n",
    "train_X_fare_mean = train_X['Fare'].mean()  # ssumption: missing completely at random (MCAR); imputing with median useful when data is skewed\n",
    "df_X['Fare'].fillna(train_X_fare_mean, inplace=True)  # use the mean of train data on validation_data and test_data to avoid leakage!\n",
    "print('\\n************************* df_X.info() after imputation:')\n",
    "print(df_X.info())\n",
    "\n",
    "# hot encode categorical features as random forest cannot handle strings\n",
    "# * also ordinal categorical features, although of type numerical, need to be one hot encoded as well, \n",
    "#   as the distance between the numbers provide wrong information to the training algorithm, affecting the model we train\n",
    "# * note that get_dummies encodes a missing value into 0,0,0 instead of nan,nan,nan; that's why we perform imputation \n",
    "#   *before* one hot encoding\n",
    "# * don't hot encode the features 'Ticket' and 'Cabin' out of laziness, as we'll drop them later (see below)\n",
    "categorical_features = ['Pclass', 'Sex', 'Embarked']\n",
    "df_X = pd.get_dummies(df_X, columns=categorical_features)\n",
    "print('\\n************************* df_X.info() after one hot encoding:')\n",
    "print(df_X.info())\n",
    "print('\\n************************* train_X.info() after one hot encoding:')\n",
    "print(train_X.info())\n",
    "# we see that the changes to df_X are not visible from train_X, so do split again\n",
    "train_X = df_X[:int(df_len * 0.6)]\n",
    "validation_X = df_X[int(df_len * 0.6):int(df_len * 0.8)]\n",
    "test_X = df_X[int(df_len * 0.8):df_len]\n",
    "kaggle_competition_data = df_X[df_len:]\n",
    "print('\\n************************* train_X.info() after one hot encoding and after resplit:')\n",
    "print(train_X.info())"
   ]
  },
  {
   "cell_type": "markdown",
   "metadata": {
    "papermill": {
     "duration": 0.022203,
     "end_time": "2023-09-18T20:02:08.497662",
     "exception": false,
     "start_time": "2023-09-18T20:02:08.475459",
     "status": "completed"
    },
    "tags": []
   },
   "source": [
    "# 5. modeling: feature selection"
   ]
  },
  {
   "cell_type": "code",
   "execution_count": 6,
   "metadata": {
    "execution": {
     "iopub.execute_input": "2023-09-18T20:02:08.560118Z",
     "iopub.status.busy": "2023-09-18T20:02:08.559349Z",
     "iopub.status.idle": "2023-09-18T20:02:08.561788Z",
     "shell.execute_reply": "2023-09-18T20:02:08.562495Z",
     "shell.execute_reply.started": "2023-09-18T20:00:45.893592Z"
    },
    "papermill": {
     "duration": 0.040926,
     "end_time": "2023-09-18T20:02:08.562658",
     "exception": false,
     "start_time": "2023-09-18T20:02:08.521732",
     "status": "completed"
    },
    "tags": []
   },
   "outputs": [],
   "source": [
    "# Based on the data exploration, let's skip the features 'PassengerId', 'Name', 'Ticket', 'Cabin'\n",
    "features = train_X.columns\n",
    "features = [f for f in features if f not in ['PassengerId', 'Name', 'Ticket', 'Cabin']]\n",
    "train_X = train_X[features]\n",
    "validation_X = validation_X[features]\n",
    "test_X = test_X[features]\n",
    "train_X = train_X[features]\n",
    "kaggle_competition_X = kaggle_competition_data[features]  # renamed to kaggle_competition_X as we need kaggle_competition_data later"
   ]
  },
  {
   "cell_type": "markdown",
   "metadata": {
    "papermill": {
     "duration": 0.021392,
     "end_time": "2023-09-18T20:02:08.605969",
     "exception": false,
     "start_time": "2023-09-18T20:02:08.584577",
     "status": "completed"
    },
    "tags": []
   },
   "source": [
    "# 6. modeling: model training\n",
    "* 6a. algorithm selection\n",
    "* 6b. hyperparameter tuning"
   ]
  },
  {
   "cell_type": "code",
   "execution_count": 7,
   "metadata": {
    "execution": {
     "iopub.execute_input": "2023-09-18T20:02:08.660597Z",
     "iopub.status.busy": "2023-09-18T20:02:08.659621Z",
     "iopub.status.idle": "2023-09-18T20:02:14.386671Z",
     "shell.execute_reply": "2023-09-18T20:02:14.387350Z",
     "shell.execute_reply.started": "2023-09-18T20:00:45.909667Z"
    },
    "papermill": {
     "duration": 5.759817,
     "end_time": "2023-09-18T20:02:14.387525",
     "exception": false,
     "start_time": "2023-09-18T20:02:08.627708",
     "status": "completed"
    },
    "tags": []
   },
   "outputs": [
    {
     "name": "stdout",
     "output_type": "stream",
     "text": [
      "accuracy_score of prediction on validation data, using n_estimators = 10 and max_depth = 1 : 0.7808988764044944\n",
      "accuracy_score of prediction on validation data, using n_estimators = 10 and max_depth = 5 : 0.8089887640449438\n",
      "accuracy_score of prediction on validation data, using n_estimators = 10 and max_depth = 50 : 0.7921348314606742\n",
      "accuracy_score of prediction on validation data, using n_estimators = 100 and max_depth = 1 : 0.7921348314606742\n",
      "accuracy_score of prediction on validation data, using n_estimators = 100 and max_depth = 5 : 0.8089887640449438\n",
      "accuracy_score of prediction on validation data, using n_estimators = 100 and max_depth = 50 : 0.8146067415730337\n",
      "accuracy_score of prediction on validation data, using n_estimators = 500 and max_depth = 1 : 0.7921348314606742\n",
      "accuracy_score of prediction on validation data, using n_estimators = 500 and max_depth = 5 : 0.8089887640449438\n",
      "accuracy_score of prediction on validation data, using n_estimators = 500 and max_depth = 50 : 0.8146067415730337\n"
     ]
    },
    {
     "data": {
      "text/plain": [
       "RandomForestClassifier(bootstrap=True, ccp_alpha=0.0, class_weight=None,\n",
       "                       criterion='gini', max_depth=5, max_features='auto',\n",
       "                       max_leaf_nodes=None, max_samples=None,\n",
       "                       min_impurity_decrease=0.0, min_impurity_split=None,\n",
       "                       min_samples_leaf=1, min_samples_split=2,\n",
       "                       min_weight_fraction_leaf=0.0, n_estimators=500,\n",
       "                       n_jobs=None, oob_score=False, random_state=1, verbose=0,\n",
       "                       warm_start=False)"
      ]
     },
     "execution_count": 7,
     "metadata": {},
     "output_type": "execute_result"
    }
   ],
   "source": [
    "# algorithm selection - random forest is flexible, easy to use with great result most of the time\n",
    "# hyperparameter tuning - for random forest some hyperparameters are n_estimators=100, max_depth=5. A validation data set is used for this.\n",
    "# Question: why don't we use the test data to perform hyperparameter tuning? Answer: because otherwise the model might become \n",
    "# optimized for the test data; this is not good as the model must remain fully independent of the test data to see how well\n",
    "# the model *generalizes* (== works well on unseen data).\n",
    "from sklearn.ensemble import RandomForestClassifier\n",
    "from sklearn.metrics import accuracy_score\n",
    "for n_estimators in [10, 100, 500]:\n",
    "    for max_depth in [1, 5, 50]:\n",
    "        model = RandomForestClassifier(n_estimators=n_estimators, max_depth=max_depth, random_state=1)\n",
    "        model.fit(train_X, train_y)\n",
    "        predictions = model.predict(validation_X)\n",
    "        print('accuracy_score of prediction on validation data, using n_estimators =', n_estimators, 'and max_depth =', max_depth, ':', accuracy_score(validation_y, predictions))\n",
    "# using n_estimators = 500 and max_depth = 50 gives highest accuracy on the validation data (several attempts), so we'll use these values\n",
    "model = RandomForestClassifier(n_estimators=500, max_depth=5, random_state=1)\n",
    "model.fit(train_X, train_y)"
   ]
  },
  {
   "cell_type": "markdown",
   "metadata": {
    "papermill": {
     "duration": 0.024882,
     "end_time": "2023-09-18T20:02:14.439687",
     "exception": false,
     "start_time": "2023-09-18T20:02:14.414805",
     "status": "completed"
    },
    "tags": []
   },
   "source": [
    "# 7. modeling: model evaluation\n",
    "* 7a. choosing evaluation metric: in this case, Kaggle chooses the evaluation metric \"accuracy\" for us\n"
   ]
  },
  {
   "cell_type": "code",
   "execution_count": 8,
   "metadata": {
    "execution": {
     "iopub.execute_input": "2023-09-18T20:02:14.500119Z",
     "iopub.status.busy": "2023-09-18T20:02:14.498766Z",
     "iopub.status.idle": "2023-09-18T20:02:14.714500Z",
     "shell.execute_reply": "2023-09-18T20:02:14.713776Z",
     "shell.execute_reply.started": "2023-09-18T20:00:50.013267Z"
    },
    "papermill": {
     "duration": 0.25004,
     "end_time": "2023-09-18T20:02:14.714637",
     "exception": false,
     "start_time": "2023-09-18T20:02:14.464597",
     "status": "completed"
    },
    "tags": []
   },
   "outputs": [
    {
     "name": "stdout",
     "output_type": "stream",
     "text": [
      "accuracy_score of prediction on train_data 0.8576779026217228\n",
      "accuracy_score of prediction on test_data 0.776536312849162\n"
     ]
    }
   ],
   "source": [
    "# evaluating against the *TRAIN_DATA*\n",
    "# gives an impression of the BIAS/VARIANCE of the model: to what extent the model is able to fit the train_data\n",
    "predictions = model.predict(train_X)\n",
    "print('accuracy_score of prediction on train_data', accuracy_score(train_y, predictions))\n",
    "\n",
    "# evaluating against the *TEST_DATA*\n",
    "# shows how well the model GENERALIZES, ability to predict using unseen data\n",
    "predictions = model.predict(test_X)\n",
    "print('accuracy_score of prediction on test_data', accuracy_score(test_y, predictions))"
   ]
  },
  {
   "cell_type": "markdown",
   "metadata": {
    "papermill": {
     "duration": 0.025179,
     "end_time": "2023-09-18T20:02:14.765458",
     "exception": false,
     "start_time": "2023-09-18T20:02:14.740279",
     "status": "completed"
    },
    "tags": []
   },
   "source": [
    "# 8. deployment of the model\n",
    "* will be done in a separate hands-on workshop\n",
    "* very important, but easily forgotten, ALL data transformations that are part of data preparation (e.g. feature normalization,\n",
    "* imputing, one hot encoding) must be done as well when using the model for predictions, otherwise the predictions will be incorrect.\n"
   ]
  },
  {
   "cell_type": "markdown",
   "metadata": {
    "papermill": {
     "duration": 0.024984,
     "end_time": "2023-09-18T20:02:14.816271",
     "exception": false,
     "start_time": "2023-09-18T20:02:14.791287",
     "status": "completed"
    },
    "tags": []
   },
   "source": [
    "# 9. Kaggle competition\n",
    "This step is not part of the data science workflow, but is specific to a Kaggle competition\n",
    "* 9a. create a submission file. \n",
    "* 9b. you upload the submission file to the Kaggle competition using the Kaggle GUI. You'll find the submission file in the right sidebar and then\n",
    "     under 'data'. After submission, your result will show up in the leader board."
   ]
  },
  {
   "cell_type": "code",
   "execution_count": 9,
   "metadata": {
    "_cell_guid": "79c7e3d0-c299-4dcb-8224-4455121ee9b0",
    "_uuid": "d629ff2d2480ee46fbb7e2d37f6b5fab8052498a",
    "execution": {
     "iopub.execute_input": "2023-09-18T20:02:14.874846Z",
     "iopub.status.busy": "2023-09-18T20:02:14.873997Z",
     "iopub.status.idle": "2023-09-18T20:02:15.056805Z",
     "shell.execute_reply": "2023-09-18T20:02:15.055732Z",
     "shell.execute_reply.started": "2023-09-18T20:00:50.139627Z"
    },
    "papermill": {
     "duration": 0.215392,
     "end_time": "2023-09-18T20:02:15.057011",
     "exception": false,
     "start_time": "2023-09-18T20:02:14.841619",
     "status": "completed"
    },
    "scrolled": true,
    "tags": []
   },
   "outputs": [
    {
     "name": "stdout",
     "output_type": "stream",
     "text": [
      "Your submission was successfully saved!\n"
     ]
    }
   ],
   "source": [
    "kaggle_competition_predictions = model.predict(kaggle_competition_X)\n",
    "\n",
    "output = pd.DataFrame({'PassengerId': kaggle_competition_data.PassengerId, 'Survived': kaggle_competition_predictions})  # kaggle_competition_X has no feature PassengerId any more\n",
    "output.to_csv('my_submission.csv', index=False)\n",
    "print(\"Your submission was successfully saved!\")"
   ]
  },
  {
   "cell_type": "markdown",
   "metadata": {
    "papermill": {
     "duration": 0.02662,
     "end_time": "2023-09-18T20:02:15.116402",
     "exception": false,
     "start_time": "2023-09-18T20:02:15.089782",
     "status": "completed"
    },
    "tags": []
   },
   "source": [
    "# The Kaggle eco-system\n",
    "\n",
    "Kaggle is owned by Google. Kaggle is so worldwide known, that a good ranking on Kaggle might be as useful as your bachelor degree.\n",
    "1. Create an account on Kaggle.\n",
    "2. Search a competition and join.\n",
    "3. You can start with an empty Jupyter notebook (called a kernel in Kaggle lingo) or start with a copy of somebody else's notebook. With every\n",
    "   competition there are many, many notebooks from other that you can use for inspiration.\n",
    "4. With the \"Share\" button you decide whether others can see your code.\n",
    "5. You can now add or modify the source code and run the notebook to see the result. Note that \"run\" does not clear variables from the previous run.\n",
    "6. Your notebook is a draft and edits are saved automatically (equivalent in git to locally saving your files on your laptop without committing).\n",
    "7. The notebook runs in the Google cloud and uses fast GPU's (probably faster than your laptop). So it is also a way to get free fast CPU time.\n",
    "   Also the data files remain in the Google cloud and do not end up on your laptop.\n",
    "8. If you're happy with your result, you can make a submission, which will show up on the leaderboard. To do this:\n",
    "  * Save this version of the source code, so that you can look back to it later, by pressing \"Save Version\" (Save & Run All)\n",
    "    to commit this version. This version becomes part of you version history (like a git commit). If your notebook as set to\n",
    "    \"public\", this committed version will be the version that is visible by others.\n",
    "  * Click on the number of the version. A new window appears. Click on the ellipsis of the last version, choose \"Submit to\n",
    "    Competition\" and submit the output. You'll show up on the leaderboard.\n",
    "10. Improve your score by improving your code (new iteration). This could be a lead to start: https://www.kaggle.com/eraaz1/a-comprehensive-guide-to-titanic-machine-learning\n"
   ]
  },
  {
   "cell_type": "code",
   "execution_count": null,
   "metadata": {
    "papermill": {
     "duration": 0.030603,
     "end_time": "2023-09-18T20:02:15.173415",
     "exception": false,
     "start_time": "2023-09-18T20:02:15.142812",
     "status": "completed"
    },
    "tags": []
   },
   "outputs": [],
   "source": []
  }
 ],
 "metadata": {
  "kernelspec": {
   "display_name": "Python 3",
   "language": "python",
   "name": "python3"
  },
  "language_info": {
   "codemirror_mode": {
    "name": "ipython",
    "version": 3
   },
   "file_extension": ".py",
   "mimetype": "text/x-python",
   "name": "python",
   "nbconvert_exporter": "python",
   "pygments_lexer": "ipython3",
   "version": "3.7.6"
  },
  "papermill": {
   "duration": 13.679273,
   "end_time": "2023-09-18T20:02:15.308699",
   "environment_variables": {},
   "exception": null,
   "input_path": "__notebook__.ipynb",
   "output_path": "__notebook__.ipynb",
   "parameters": {},
   "start_time": "2023-09-18T20:02:01.629426",
   "version": "2.1.0"
  }
 },
 "nbformat": 4,
 "nbformat_minor": 4
}
